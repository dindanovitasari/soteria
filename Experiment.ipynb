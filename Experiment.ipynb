{
 "cells": [
  {
   "cell_type": "code",
   "execution_count": 18,
   "metadata": {},
   "outputs": [],
   "source": [
    "import os\n",
    "os.environ['TF_CPP_MIN_LOG_LEVEL'] = '3'\n",
    "\n",
    "from soteria import Soteria\n",
    "import numpy as np\n",
    "from sklearn import metrics\n",
    "from matplotlib import pyplot as plt\n",
    "from keras.utils import to_categorical\n",
    "\n",
    "soteria_engine = Soteria()"
   ]
  },
  {
   "cell_type": "markdown",
   "metadata": {},
   "source": [
    "## Load Dataset"
   ]
  },
  {
   "cell_type": "code",
   "execution_count": 2,
   "metadata": {},
   "outputs": [],
   "source": [
    "X, y = soteria_engine.load_dataset(\"data/features\", \"data/labels\")"
   ]
  },
  {
   "cell_type": "markdown",
   "metadata": {},
   "source": [
    "## Explore dataset"
   ]
  },
  {
   "cell_type": "code",
   "execution_count": 3,
   "metadata": {},
   "outputs": [
    {
     "data": {
      "text/html": [
       "<div>\n",
       "<style scoped>\n",
       "    .dataframe tbody tr th:only-of-type {\n",
       "        vertical-align: middle;\n",
       "    }\n",
       "\n",
       "    .dataframe tbody tr th {\n",
       "        vertical-align: top;\n",
       "    }\n",
       "\n",
       "    .dataframe thead th {\n",
       "        text-align: right;\n",
       "    }\n",
       "</style>\n",
       "<table border=\"1\" class=\"dataframe\">\n",
       "  <thead>\n",
       "    <tr style=\"text-align: right;\">\n",
       "      <th></th>\n",
       "      <th>bookingID</th>\n",
       "      <th>Accuracy</th>\n",
       "      <th>Bearing</th>\n",
       "      <th>acceleration_x</th>\n",
       "      <th>acceleration_y</th>\n",
       "      <th>acceleration_z</th>\n",
       "      <th>gyro_x</th>\n",
       "      <th>gyro_y</th>\n",
       "      <th>gyro_z</th>\n",
       "      <th>second</th>\n",
       "      <th>Speed</th>\n",
       "    </tr>\n",
       "  </thead>\n",
       "  <tbody>\n",
       "    <tr>\n",
       "      <th>0</th>\n",
       "      <td>0</td>\n",
       "      <td>12.0</td>\n",
       "      <td>143.298294</td>\n",
       "      <td>0.818112</td>\n",
       "      <td>-9.941461</td>\n",
       "      <td>-2.014999</td>\n",
       "      <td>-0.016245</td>\n",
       "      <td>-0.094040</td>\n",
       "      <td>0.070732</td>\n",
       "      <td>0.0</td>\n",
       "      <td>3.442991</td>\n",
       "    </tr>\n",
       "    <tr>\n",
       "      <th>1</th>\n",
       "      <td>0</td>\n",
       "      <td>8.0</td>\n",
       "      <td>143.298294</td>\n",
       "      <td>0.546405</td>\n",
       "      <td>-9.835590</td>\n",
       "      <td>-2.038925</td>\n",
       "      <td>-0.047092</td>\n",
       "      <td>-0.078874</td>\n",
       "      <td>0.043187</td>\n",
       "      <td>1.0</td>\n",
       "      <td>0.228454</td>\n",
       "    </tr>\n",
       "    <tr>\n",
       "      <th>2</th>\n",
       "      <td>0</td>\n",
       "      <td>8.0</td>\n",
       "      <td>143.298294</td>\n",
       "      <td>-1.706207</td>\n",
       "      <td>-9.270792</td>\n",
       "      <td>-1.209448</td>\n",
       "      <td>-0.028965</td>\n",
       "      <td>-0.032652</td>\n",
       "      <td>0.015390</td>\n",
       "      <td>2.0</td>\n",
       "      <td>0.228454</td>\n",
       "    </tr>\n",
       "    <tr>\n",
       "      <th>3</th>\n",
       "      <td>0</td>\n",
       "      <td>8.0</td>\n",
       "      <td>143.298294</td>\n",
       "      <td>-1.416705</td>\n",
       "      <td>-9.548032</td>\n",
       "      <td>-1.860977</td>\n",
       "      <td>-0.022413</td>\n",
       "      <td>0.005049</td>\n",
       "      <td>-0.025753</td>\n",
       "      <td>3.0</td>\n",
       "      <td>0.228454</td>\n",
       "    </tr>\n",
       "    <tr>\n",
       "      <th>4</th>\n",
       "      <td>0</td>\n",
       "      <td>8.0</td>\n",
       "      <td>143.298294</td>\n",
       "      <td>-0.598145</td>\n",
       "      <td>-9.853534</td>\n",
       "      <td>-1.378574</td>\n",
       "      <td>-0.014297</td>\n",
       "      <td>-0.046206</td>\n",
       "      <td>0.021902</td>\n",
       "      <td>4.0</td>\n",
       "      <td>0.228454</td>\n",
       "    </tr>\n",
       "  </tbody>\n",
       "</table>\n",
       "</div>"
      ],
      "text/plain": [
       "   bookingID  Accuracy     Bearing  acceleration_x  acceleration_y  \\\n",
       "0          0      12.0  143.298294        0.818112       -9.941461   \n",
       "1          0       8.0  143.298294        0.546405       -9.835590   \n",
       "2          0       8.0  143.298294       -1.706207       -9.270792   \n",
       "3          0       8.0  143.298294       -1.416705       -9.548032   \n",
       "4          0       8.0  143.298294       -0.598145       -9.853534   \n",
       "\n",
       "   acceleration_z    gyro_x    gyro_y    gyro_z  second     Speed  \n",
       "0       -2.014999 -0.016245 -0.094040  0.070732     0.0  3.442991  \n",
       "1       -2.038925 -0.047092 -0.078874  0.043187     1.0  0.228454  \n",
       "2       -1.209448 -0.028965 -0.032652  0.015390     2.0  0.228454  \n",
       "3       -1.860977 -0.022413  0.005049 -0.025753     3.0  0.228454  \n",
       "4       -1.378574 -0.014297 -0.046206  0.021902     4.0  0.228454  "
      ]
     },
     "execution_count": 3,
     "metadata": {},
     "output_type": "execute_result"
    }
   ],
   "source": [
    "X.head()"
   ]
  },
  {
   "cell_type": "code",
   "execution_count": 4,
   "metadata": {},
   "outputs": [
    {
     "data": {
      "image/png": "[encoded data removed]",
      "text/plain": [
       "<Figure size 432x288 with 1 Axes>"
      ]
     },
     "metadata": {
      "needs_background": "light"
     },
     "output_type": "display_data"
    }
   ],
   "source": [
    "# Plot \n",
    "y['label'].value_counts().plot(kind='bar',title='Training Examples by Dangerousity')\n",
    "plt.show()"
   ]
  },
  {
   "cell_type": "markdown",
   "metadata": {},
   "source": [
    "### Add features\n",
    "Distance = Speed * second"
   ]
  },
  {
   "cell_type": "code",
   "execution_count": 5,
   "metadata": {},
   "outputs": [],
   "source": [
    "X = soteria_engine.add_features(X)"
   ]
  },
  {
   "cell_type": "markdown",
   "metadata": {},
   "source": [
    "### Problem Definition\n",
    "The problem is time-series classification since the data format is telemetric signal"
   ]
  },
  {
   "cell_type": "code",
   "execution_count": 6,
   "metadata": {},
   "outputs": [],
   "source": [
    "def visualise_time_series(data,col_name, title):    \n",
    "    data.plot()\n",
    "    plt.xlabel('Time')\n",
    "    plt.ylabel(col_name)\n",
    "    plt.title(title)\n",
    "    plt.show()   "
   ]
  },
  {
   "cell_type": "markdown",
   "metadata": {},
   "source": [
    "In this chart, we will see that the speed of dangerous and safe trip is different in 120 seconds"
   ]
  },
  {
   "cell_type": "code",
   "execution_count": 7,
   "metadata": {},
   "outputs": [
    {
     "data": {
      "image/png": "[encoded data removed]",
      "text/plain": [
       "<Figure size 432x288 with 1 Axes>"
      ]
     },
     "metadata": {
      "needs_background": "light"
     },
     "output_type": "display_data"
    },
    {
     "data": {
      "image/png": "[encoded data removed]",
      "text/plain": [
       "<Figure size 432x288 with 1 Axes>"
      ]
     },
     "metadata": {
      "needs_background": "light"
     },
     "output_type": "display_data"
    }
   ],
   "source": [
    "dangerous_trip_bid =y[\"bookingID\"][y[\"label\"]==1].values[0]\n",
    "dangerous_trip = X[X[\"bookingID\"]==dangerous_trip_bid].reset_index(drop=True)\n",
    "safe_trip_bid =y[\"bookingID\"][y[\"label\"]==0].values[0]\n",
    "safe_trip = X[X[\"bookingID\"]==safe_trip_bid].reset_index(drop=True)\n",
    "visualise_time_series(dangerous_trip[\"Speed\"][0:120], \"speed\",\"Dangerous Speed\")\n",
    "visualise_time_series(safe_trip[\"Speed\"][0:120],\"speed\", \"Safe Speed\")"
   ]
  },
  {
   "cell_type": "code",
   "execution_count": 8,
   "metadata": {},
   "outputs": [
    {
     "data": {
      "text/plain": [
       "120"
      ]
     },
     "execution_count": 8,
     "metadata": {},
     "output_type": "execute_result"
    }
   ],
   "source": [
    "#Cut off length\n",
    "trip_length = X['bookingID'].value_counts()\n",
    "trip_length.min()"
   ]
  },
  {
   "cell_type": "markdown",
   "metadata": {},
   "source": [
    "Thus, in this problem, each trip is represented by 10 variables:\n",
    "1. Accuracy\n",
    "2. Bearing\n",
    "3. acceleration_x\n",
    "4. acceleration_y\n",
    "5. acceleration_z\n",
    "6. gyro_x\n",
    "7. gyro_y\n",
    "8. gyro_z\n",
    "9. Speed\n",
    "10. distance\n",
    "\n",
    "which each variable consists of telemetric data in 120 seconds"
   ]
  },
  {
   "cell_type": "markdown",
   "metadata": {},
   "source": [
    "![data_rep](https://github.com/dindanovitasari/soteria/blob/master/data_rep.PNG)"
   ]
  },
  {
   "cell_type": "markdown",
   "metadata": {},
   "source": [
    "## Split dataset into train and test dataset"
   ]
  },
  {
   "cell_type": "code",
   "execution_count": 9,
   "metadata": {},
   "outputs": [],
   "source": [
    "data_train, data_test, label_train, label_test = soteria_engine.train_test_split(X, y, 0.7)\n",
    "\n",
    "#Cut off dataset\n",
    "X_train, y_train = soteria_engine.cutoff_dataset(data_train, label_train)\n",
    "X_test, y_test = soteria_engine.cutoff_dataset(data_test, label_test)"
   ]
  },
  {
   "cell_type": "code",
   "execution_count": 10,
   "metadata": {},
   "outputs": [],
   "source": [
    "X_train = X_train.astype('float32')\n",
    "X_test = X_test.astype('float32')\n",
    "y_train = y_train.astype('float32')\n",
    "y_test = y_test.astype('float32')"
   ]
  },
  {
   "cell_type": "markdown",
   "metadata": {},
   "source": [
    "## Build and Train Model"
   ]
  },
  {
   "cell_type": "code",
   "execution_count": 21,
   "metadata": {},
   "outputs": [
    {
     "name": "stdout",
     "output_type": "stream",
     "text": [
      "__________________________________________________________________________________________________\n",
      "Layer (type)                    Output Shape         Param #     Connected to                     \n",
      "==================================================================================================\n",
      "input_4 (InputLayer)            (None, 10, 120)      0                                            \n",
      "__________________________________________________________________________________________________\n",
      "permute_4 (Permute)             (None, 120, 10)      0           input_4[0][0]                    \n",
      "__________________________________________________________________________________________________\n",
      "conv1d_10 (Conv1D)              (None, 120, 128)     10368       permute_4[0][0]                  \n",
      "__________________________________________________________________________________________________\n",
      "batch_normalization_10 (BatchNo (None, 120, 128)     512         conv1d_10[0][0]                  \n",
      "__________________________________________________________________________________________________\n",
      "activation_10 (Activation)      (None, 120, 128)     0           batch_normalization_10[0][0]     \n",
      "__________________________________________________________________________________________________\n",
      "global_average_pooling1d_10 (Gl (None, 128)          0           activation_10[0][0]              \n",
      "__________________________________________________________________________________________________\n",
      "reshape_7 (Reshape)             (None, 1, 128)       0           global_average_pooling1d_10[0][0]\n",
      "__________________________________________________________________________________________________\n",
      "dense_15 (Dense)                (None, 1, 8)         1024        reshape_7[0][0]                  \n",
      "__________________________________________________________________________________________________\n",
      "dense_16 (Dense)                (None, 1, 128)       1024        dense_15[0][0]                   \n",
      "__________________________________________________________________________________________________\n",
      "multiply_7 (Multiply)           (None, 120, 128)     0           activation_10[0][0]              \n",
      "                                                                 dense_16[0][0]                   \n",
      "__________________________________________________________________________________________________\n",
      "conv1d_11 (Conv1D)              (None, 120, 256)     164096      multiply_7[0][0]                 \n",
      "__________________________________________________________________________________________________\n",
      "batch_normalization_11 (BatchNo (None, 120, 256)     1024        conv1d_11[0][0]                  \n",
      "__________________________________________________________________________________________________\n",
      "activation_11 (Activation)      (None, 120, 256)     0           batch_normalization_11[0][0]     \n",
      "__________________________________________________________________________________________________\n",
      "global_average_pooling1d_11 (Gl (None, 256)          0           activation_11[0][0]              \n",
      "__________________________________________________________________________________________________\n",
      "reshape_8 (Reshape)             (None, 1, 256)       0           global_average_pooling1d_11[0][0]\n",
      "__________________________________________________________________________________________________\n",
      "dense_17 (Dense)                (None, 1, 16)        4096        reshape_8[0][0]                  \n",
      "__________________________________________________________________________________________________\n",
      "dense_18 (Dense)                (None, 1, 256)       4096        dense_17[0][0]                   \n",
      "__________________________________________________________________________________________________\n",
      "multiply_8 (Multiply)           (None, 120, 256)     0           activation_11[0][0]              \n",
      "                                                                 dense_18[0][0]                   \n",
      "__________________________________________________________________________________________________\n",
      "conv1d_12 (Conv1D)              (None, 120, 128)     98432       multiply_8[0][0]                 \n",
      "__________________________________________________________________________________________________\n",
      "masking_4 (Masking)             (None, 10, 120)      0           input_4[0][0]                    \n",
      "__________________________________________________________________________________________________\n",
      "batch_normalization_12 (BatchNo (None, 120, 128)     512         conv1d_12[0][0]                  \n",
      "__________________________________________________________________________________________________\n",
      "lstm_4 (LSTM)                   (None, 8)            4128        masking_4[0][0]                  \n",
      "__________________________________________________________________________________________________\n",
      "activation_12 (Activation)      (None, 120, 128)     0           batch_normalization_12[0][0]     \n",
      "__________________________________________________________________________________________________\n",
      "dropout_4 (Dropout)             (None, 8)            0           lstm_4[0][0]                     \n",
      "__________________________________________________________________________________________________\n",
      "global_average_pooling1d_12 (Gl (None, 128)          0           activation_12[0][0]              \n",
      "__________________________________________________________________________________________________\n",
      "concatenate_4 (Concatenate)     (None, 136)          0           dropout_4[0][0]                  \n",
      "                                                                 global_average_pooling1d_12[0][0]\n",
      "__________________________________________________________________________________________________\n",
      "dense_19 (Dense)                (None, 2)            274         concatenate_4[0][0]              \n",
      "==================================================================================================\n",
      "Total params: 289,586\n",
      "Trainable params: 288,562\n",
      "Non-trainable params: 1,024\n",
      "__________________________________________________________________________________________________\n"
     ]
    }
   ],
   "source": [
    "model = soteria_engine.generate_model()"
   ]
  },
  {
   "cell_type": "code",
   "execution_count": 22,
   "metadata": {},
   "outputs": [
    {
     "name": "stdout",
     "output_type": "stream",
     "text": [
      "Train on 11189 samples, validate on 2798 samples\n",
      "Epoch 1/50\n",
      "11189/11189 [==============================] - 47s 4ms/step - loss: 0.5563 - jacek_auc: 0.7681 - val_loss: 0.5642 - val_jacek_auc: 0.7863\n",
      "\n",
      "Epoch 00001: loss improved from inf to 0.55626, saving model to model/model_tr.h5\n",
      "Epoch 2/50\n",
      "11189/11189 [==============================] - 48s 4ms/step - loss: 0.5367 - jacek_auc: 0.7856 - val_loss: 0.5901 - val_jacek_auc: 0.7866\n",
      "\n",
      "Epoch 00002: loss improved from 0.55626 to 0.53668, saving model to model/model_tr.h5\n",
      "Epoch 3/50\n",
      "11189/11189 [==============================] - 48s 4ms/step - loss: 0.5349 - jacek_auc: 0.7862 - val_loss: 0.5563 - val_jacek_auc: 0.7876\n",
      "\n",
      "Epoch 00003: loss improved from 0.53668 to 0.53487, saving model to model/model_tr.h5\n",
      "Epoch 4/50\n",
      "11189/11189 [==============================] - 48s 4ms/step - loss: 0.5296 - jacek_auc: 0.7886 - val_loss: 0.5666 - val_jacek_auc: 0.7894\n",
      "\n",
      "Epoch 00004: loss improved from 0.53487 to 0.52959, saving model to model/model_tr.h5\n",
      "Epoch 5/50\n",
      "11189/11189 [==============================] - 47s 4ms/step - loss: 0.5279 - jacek_auc: 0.7891 - val_loss: 0.5624 - val_jacek_auc: 0.7902\n",
      "\n",
      "Epoch 00005: loss improved from 0.52959 to 0.52791, saving model to model/model_tr.h5\n",
      "Epoch 6/50\n",
      "11189/11189 [==============================] - 48s 4ms/step - loss: 0.5306 - jacek_auc: 0.7903 - val_loss: 0.5649 - val_jacek_auc: 0.7907\n",
      "\n",
      "Epoch 00006: loss did not improve from 0.52791\n",
      "Epoch 7/50\n",
      "11189/11189 [==============================] - 49s 4ms/step - loss: 0.5267 - jacek_auc: 0.7910 - val_loss: 0.5653 - val_jacek_auc: 0.7914\n",
      "\n",
      "Epoch 00007: loss improved from 0.52791 to 0.52674, saving model to model/model_tr.h5\n",
      "Epoch 8/50\n",
      "11189/11189 [==============================] - 58s 5ms/step - loss: 0.5277 - jacek_auc: 0.7911 - val_loss: 0.5632 - val_jacek_auc: 0.7918\n",
      "\n",
      "Epoch 00008: loss did not improve from 0.52674\n",
      "Epoch 9/50\n",
      "11189/11189 [==============================] - 53s 5ms/step - loss: 0.5271 - jacek_auc: 0.7917 - val_loss: 0.5717 - val_jacek_auc: 0.7920\n",
      "\n",
      "Epoch 00009: loss did not improve from 0.52674\n",
      "Epoch 10/50\n",
      "11189/11189 [==============================] - 55s 5ms/step - loss: 0.5246 - jacek_auc: 0.7921 - val_loss: 0.5609 - val_jacek_auc: 0.7925\n",
      "\n",
      "Epoch 00010: loss improved from 0.52674 to 0.52465, saving model to model/model_tr.h5\n",
      "Epoch 11/50\n",
      "11189/11189 [==============================] - 56s 5ms/step - loss: 0.5250 - jacek_auc: 0.7926 - val_loss: 0.5593 - val_jacek_auc: 0.7930\n",
      "\n",
      "Epoch 00011: loss did not improve from 0.52465\n",
      "Epoch 12/50\n",
      "11189/11189 [==============================] - 53s 5ms/step - loss: 0.5257 - jacek_auc: 0.7932 - val_loss: 0.5566 - val_jacek_auc: 0.7935\n",
      "\n",
      "Epoch 00012: loss did not improve from 0.52465\n",
      "Epoch 13/50\n",
      "11189/11189 [==============================] - 51s 5ms/step - loss: 0.5235 - jacek_auc: 0.7936 - val_loss: 0.5602 - val_jacek_auc: 0.7939\n",
      "\n",
      "Epoch 00013: loss improved from 0.52465 to 0.52351, saving model to model/model_tr.h5\n",
      "Epoch 14/50\n",
      "11189/11189 [==============================] - 50s 4ms/step - loss: 0.5243 - jacek_auc: 0.7939 - val_loss: 0.5579 - val_jacek_auc: 0.7943\n",
      "\n",
      "Epoch 00014: loss did not improve from 0.52351\n",
      "Epoch 15/50\n",
      "11189/11189 [==============================] - 54s 5ms/step - loss: 0.5230 - jacek_auc: 0.7944 - val_loss: 0.5570 - val_jacek_auc: 0.7946\n",
      "\n",
      "Epoch 00015: loss improved from 0.52351 to 0.52298, saving model to model/model_tr.h5\n",
      "Epoch 16/50\n",
      "11189/11189 [==============================] - 49s 4ms/step - loss: 0.5263 - jacek_auc: 0.7945 - val_loss: 0.5650 - val_jacek_auc: 0.7948\n",
      "\n",
      "Epoch 00016: loss did not improve from 0.52298\n",
      "Epoch 17/50\n",
      "11189/11189 [==============================] - 50s 4ms/step - loss: 0.5251 - jacek_auc: 0.7948 - val_loss: 0.5586 - val_jacek_auc: 0.7949\n",
      "\n",
      "Epoch 00017: loss did not improve from 0.52298\n",
      "Epoch 18/50\n",
      "11189/11189 [==============================] - 51s 5ms/step - loss: 0.5230 - jacek_auc: 0.7950 - val_loss: 0.5613 - val_jacek_auc: 0.7952\n",
      "\n",
      "Epoch 00018: loss did not improve from 0.52298\n",
      "Epoch 19/50\n",
      "11189/11189 [==============================] - 47s 4ms/step - loss: 0.5235 - jacek_auc: 0.7953 - val_loss: 0.5600 - val_jacek_auc: 0.7954\n",
      "\n",
      "Epoch 00019: loss did not improve from 0.52298\n",
      "Epoch 20/50\n",
      "11189/11189 [==============================] - 46s 4ms/step - loss: 0.5219 - jacek_auc: 0.7955 - val_loss: 0.5570 - val_jacek_auc: 0.7957\n",
      "\n",
      "Epoch 00020: loss improved from 0.52298 to 0.52193, saving model to model/model_tr.h5\n",
      "Epoch 21/50\n",
      "11189/11189 [==============================] - 49s 4ms/step - loss: 0.5211 - jacek_auc: 0.7958 - val_loss: 0.5637 - val_jacek_auc: 0.7960\n",
      "\n",
      "Epoch 00021: loss improved from 0.52193 to 0.52115, saving model to model/model_tr.h5\n",
      "Epoch 22/50\n",
      "11189/11189 [==============================] - 52s 5ms/step - loss: 0.5209 - jacek_auc: 0.7960 - val_loss: 0.5570 - val_jacek_auc: 0.7962\n",
      "\n",
      "Epoch 00022: loss improved from 0.52115 to 0.52086, saving model to model/model_tr.h5\n",
      "Epoch 23/50\n",
      "11189/11189 [==============================] - 49s 4ms/step - loss: 0.5217 - jacek_auc: 0.7963 - val_loss: 0.5616 - val_jacek_auc: 0.7965\n",
      "\n",
      "Epoch 00023: loss did not improve from 0.52086\n",
      "Epoch 24/50\n",
      "11189/11189 [==============================] - 49s 4ms/step - loss: 0.5199 - jacek_auc: 0.7966 - val_loss: 0.5625 - val_jacek_auc: 0.7967\n",
      "\n",
      "Epoch 00024: loss improved from 0.52086 to 0.51990, saving model to model/model_tr.h5\n",
      "Epoch 25/50\n",
      "11189/11189 [==============================] - 50s 4ms/step - loss: 0.5200 - jacek_auc: 0.7968 - val_loss: 0.5687 - val_jacek_auc: 0.7970\n",
      "\n",
      "Epoch 00025: loss did not improve from 0.51990\n",
      "Epoch 26/50\n",
      "11189/11189 [==============================] - 49s 4ms/step - loss: 0.5210 - jacek_auc: 0.7970 - val_loss: 0.5785 - val_jacek_auc: 0.7971\n",
      "\n",
      "Epoch 00026: loss did not improve from 0.51990\n",
      "Epoch 27/50\n",
      "11189/11189 [==============================] - 50s 4ms/step - loss: 0.5200 - jacek_auc: 0.7971 - val_loss: 0.5584 - val_jacek_auc: 0.7972\n",
      "\n",
      "Epoch 00027: loss did not improve from 0.51990\n",
      "Epoch 28/50\n",
      "11189/11189 [==============================] - 49s 4ms/step - loss: 0.5184 - jacek_auc: 0.7973 - val_loss: 0.5584 - val_jacek_auc: 0.7975\n",
      "\n",
      "Epoch 00028: loss improved from 0.51990 to 0.51836, saving model to model/model_tr.h5\n",
      "Epoch 29/50\n",
      "11189/11189 [==============================] - 52s 5ms/step - loss: 0.5184 - jacek_auc: 0.7976 - val_loss: 0.5823 - val_jacek_auc: 0.7977\n",
      "\n",
      "Epoch 00029: loss improved from 0.51836 to 0.51835, saving model to model/model_tr.h5\n",
      "Epoch 30/50\n",
      "11189/11189 [==============================] - 51s 5ms/step - loss: 0.5176 - jacek_auc: 0.7977 - val_loss: 0.5539 - val_jacek_auc: 0.7978\n",
      "\n",
      "Epoch 00030: loss improved from 0.51835 to 0.51764, saving model to model/model_tr.h5\n",
      "Epoch 31/50\n",
      "11189/11189 [==============================] - 49s 4ms/step - loss: 0.5183 - jacek_auc: 0.7979 - val_loss: 0.5554 - val_jacek_auc: 0.7981\n",
      "\n",
      "Epoch 00031: loss did not improve from 0.51764\n",
      "Epoch 32/50\n",
      "11189/11189 [==============================] - 50s 5ms/step - loss: 0.5181 - jacek_auc: 0.7981 - val_loss: 0.5603 - val_jacek_auc: 0.7983\n",
      "\n",
      "Epoch 00032: loss did not improve from 0.51764\n",
      "Epoch 33/50\n",
      "11189/11189 [==============================] - 50s 4ms/step - loss: 0.5167 - jacek_auc: 0.7984 - val_loss: 0.5608 - val_jacek_auc: 0.7986\n",
      "\n",
      "Epoch 00033: loss improved from 0.51764 to 0.51675, saving model to model/model_tr.h5\n",
      "Epoch 34/50\n",
      "11189/11189 [==============================] - 49s 4ms/step - loss: 0.5160 - jacek_auc: 0.7986 - val_loss: 0.5693 - val_jacek_auc: 0.7988\n",
      "\n",
      "Epoch 00034: loss improved from 0.51675 to 0.51603, saving model to model/model_tr.h5\n",
      "Epoch 35/50\n",
      "11189/11189 [==============================] - 51s 5ms/step - loss: 0.5148 - jacek_auc: 0.7989 - val_loss: 0.5572 - val_jacek_auc: 0.7991\n",
      "\n",
      "Epoch 00035: loss improved from 0.51603 to 0.51476, saving model to model/model_tr.h5\n",
      "Epoch 36/50\n",
      "11189/11189 [==============================] - 50s 4ms/step - loss: 0.5151 - jacek_auc: 0.7992 - val_loss: 0.5593 - val_jacek_auc: 0.7994\n",
      "\n",
      "Epoch 00036: loss did not improve from 0.51476\n",
      "Epoch 37/50\n",
      "11189/11189 [==============================] - 47s 4ms/step - loss: 0.5137 - jacek_auc: 0.7994 - val_loss: 0.5625 - val_jacek_auc: 0.7997\n",
      "\n",
      "Epoch 00037: loss improved from 0.51476 to 0.51372, saving model to model/model_tr.h5\n",
      "Epoch 38/50\n"
     ]
    },
    {
     "name": "stdout",
     "output_type": "stream",
     "text": [
      "11189/11189 [==============================] - 47s 4ms/step - loss: 0.5134 - jacek_auc: 0.7998 - val_loss: 0.5691 - val_jacek_auc: 0.7999\n",
      "\n",
      "Epoch 00038: loss improved from 0.51372 to 0.51337, saving model to model/model_tr.h5\n",
      "Epoch 39/50\n",
      "11189/11189 [==============================] - 47s 4ms/step - loss: 0.5132 - jacek_auc: 0.8000 - val_loss: 0.5699 - val_jacek_auc: 0.8001\n",
      "\n",
      "Epoch 00039: loss improved from 0.51337 to 0.51321, saving model to model/model_tr.h5\n",
      "Epoch 40/50\n",
      "11189/11189 [==============================] - 48s 4ms/step - loss: 0.5138 - jacek_auc: 0.8002 - val_loss: 0.5623 - val_jacek_auc: 0.8003\n",
      "\n",
      "Epoch 00040: loss did not improve from 0.51321\n",
      "Epoch 41/50\n",
      "11189/11189 [==============================] - 47s 4ms/step - loss: 0.5124 - jacek_auc: 0.8005 - val_loss: 0.5619 - val_jacek_auc: 0.8006\n",
      "\n",
      "Epoch 00041: loss improved from 0.51321 to 0.51238, saving model to model/model_tr.h5\n",
      "Epoch 42/50\n",
      "11189/11189 [==============================] - 47s 4ms/step - loss: 0.5119 - jacek_auc: 0.8007 - val_loss: 0.5549 - val_jacek_auc: 0.8009\n",
      "\n",
      "Epoch 00042: loss improved from 0.51238 to 0.51192, saving model to model/model_tr.h5\n",
      "Epoch 43/50\n",
      "11189/11189 [==============================] - 47s 4ms/step - loss: 0.5124 - jacek_auc: 0.8010 - val_loss: 0.5622 - val_jacek_auc: 0.8011\n",
      "\n",
      "Epoch 00043: loss did not improve from 0.51192\n",
      "Epoch 44/50\n",
      "11189/11189 [==============================] - 47s 4ms/step - loss: 0.5109 - jacek_auc: 0.8012 - val_loss: 0.5647 - val_jacek_auc: 0.8013\n",
      "\n",
      "Epoch 00044: loss improved from 0.51192 to 0.51093, saving model to model/model_tr.h5\n",
      "Epoch 45/50\n",
      "11189/11189 [==============================] - 49s 4ms/step - loss: 0.5086 - jacek_auc: 0.8014 - val_loss: 0.5694 - val_jacek_auc: 0.8016\n",
      "\n",
      "Epoch 00045: loss improved from 0.51093 to 0.50859, saving model to model/model_tr.h5\n",
      "Epoch 46/50\n",
      "11189/11189 [==============================] - 51s 5ms/step - loss: 0.5107 - jacek_auc: 0.8017 - val_loss: 0.5606 - val_jacek_auc: 0.8018\n",
      "\n",
      "Epoch 00046: loss did not improve from 0.50859\n",
      "Epoch 47/50\n",
      "11189/11189 [==============================] - 49s 4ms/step - loss: 0.5082 - jacek_auc: 0.8019 - val_loss: 0.5778 - val_jacek_auc: 0.8021\n",
      "\n",
      "Epoch 00047: loss improved from 0.50859 to 0.50822, saving model to model/model_tr.h5\n",
      "Epoch 48/50\n",
      "11189/11189 [==============================] - 47s 4ms/step - loss: 0.5092 - jacek_auc: 0.8021 - val_loss: 0.5576 - val_jacek_auc: 0.8023\n",
      "\n",
      "Epoch 00048: loss did not improve from 0.50822\n",
      "Epoch 49/50\n",
      "11189/11189 [==============================] - 47s 4ms/step - loss: 0.5087 - jacek_auc: 0.8024 - val_loss: 0.5666 - val_jacek_auc: 0.8025\n",
      "\n",
      "Epoch 00049: loss did not improve from 0.50822\n",
      "Epoch 50/50\n",
      "11189/11189 [==============================] - 47s 4ms/step - loss: 0.5068 - jacek_auc: 0.8026 - val_loss: 0.5893 - val_jacek_auc: 0.8028\n",
      "\n",
      "Epoch 00050: loss improved from 0.50822 to 0.50682, saving model to model/model_tr.h5\n"
     ]
    }
   ],
   "source": [
    "model_tr = soteria_engine.train_model(model, X_train, y_train, \"model/model_tr\")"
   ]
  },
  {
   "cell_type": "code",
   "execution_count": 23,
   "metadata": {},
   "outputs": [],
   "source": [
    "model_tr.save_weights(\"model/model_tr_weight.h5\")"
   ]
  },
  {
   "cell_type": "markdown",
   "metadata": {},
   "source": [
    "## Predict Train data"
   ]
  },
  {
   "cell_type": "code",
   "execution_count": 26,
   "metadata": {},
   "outputs": [
    {
     "name": "stdout",
     "output_type": "stream",
     "text": [
      "13987/13987 [==============================] - 22s 2ms/step\n",
      "Jacek AUC train: 0.784394820896272\n"
     ]
    }
   ],
   "source": [
    "_, auc_train = model_tr.evaluate(X_train, to_categorical(y_train, soteria_engine.num_classes), \n",
    "                                       batch_size = soteria_engine.batch_size)\n",
    "print(\"Jacek AUC train: {}\".format(auc_train))"
   ]
  },
  {
   "cell_type": "code",
   "execution_count": 27,
   "metadata": {},
   "outputs": [
    {
     "name": "stdout",
     "output_type": "stream",
     "text": [
      "sklearn AUC: 0.37441113492178346\n"
     ]
    }
   ],
   "source": [
    "y_pred_train = model_tr.predict(X_train)\n",
    "y_pred_train_prob = np.max(y_pred_train, axis=1)\n",
    "print(\"sklearn AUC: {}\".format(metrics.roc_auc_score(y_train, y_pred_train_prob)))"
   ]
  },
  {
   "cell_type": "markdown",
   "metadata": {},
   "source": [
    "## Predict Test data"
   ]
  },
  {
   "cell_type": "code",
   "execution_count": 25,
   "metadata": {},
   "outputs": [
    {
     "name": "stdout",
     "output_type": "stream",
     "text": [
      "5995/5995 [==============================] - 6s 1ms/step\n",
      "Jacek AUC test: 0.7304478480380411\n"
     ]
    }
   ],
   "source": [
    "_, auc_test = model_tr.evaluate(X_test, to_categorical(y_test, soteria_engine.num_classes), \n",
    "                                                    batch_size = soteria_engine.batch_size)\n",
    "print(\"Jacek AUC test: {}\".format(auc_test))"
   ]
  },
  {
   "cell_type": "code",
   "execution_count": 28,
   "metadata": {},
   "outputs": [
    {
     "name": "stdout",
     "output_type": "stream",
     "text": [
      "sklearn AUC: 0.4150596160506545\n"
     ]
    }
   ],
   "source": [
    "y_pred_test = model_tr.predict(X_test)\n",
    "y_pred_test_prob = np.max(y_pred_test, axis=1)\n",
    "print(\"sklearn AUC: {}\".format(metrics.roc_auc_score(y_test, y_pred_test_prob)))"
   ]
  },
  {
   "cell_type": "code",
   "execution_count": null,
   "metadata": {},
   "outputs": [],
   "source": []
  }
 ],
 "metadata": {
  "kernelspec": {
   "display_name": "Python 3",
   "language": "python",
   "name": "python3"
  },
  "language_info": {
   "codemirror_mode": {
    "name": "ipython",
    "version": 3
   },
   "file_extension": ".py",
   "mimetype": "text/x-python",
   "name": "python",
   "nbconvert_exporter": "python",
   "pygments_lexer": "ipython3",
   "version": "3.6.8"
  }
 },
 "nbformat": 4,
 "nbformat_minor": 2
}
